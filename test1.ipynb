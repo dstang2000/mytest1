{
 "cells": [
  {
   "cell_type": "code",
   "execution_count": 1,
   "metadata": {},
   "outputs": [
    {
     "name": "stdout",
     "output_type": "stream",
     "text": [
      "hello\n",
      "0\n",
      "1\n",
      "2\n"
     ]
    }
   ],
   "source": [
    "print(\"hello\")\n",
    "for i in range(3):\n",
    "    print(i)"
   ]
  },
  {
   "cell_type": "code",
   "execution_count": 8,
   "metadata": {},
   "outputs": [
    {
     "name": "stdout",
     "output_type": "stream",
     "text": [
      "Happy Birthday to you!\n",
      "Happy Birthday to you!\n",
      "Happy Birthday dear 李明!\n",
      "Happy Birthday to you!\n",
      "hello\n"
     ]
    }
   ],
   "source": [
    "# %load 1.py\n",
    "\n",
    "def happy():\n",
    "    print(\"Happy Birthday to you!\")\n",
    "\n",
    "def sing(P):\n",
    "    happy()\n",
    "    happy()\n",
    "    print(\"Happy Birthday dear \" + P + \"!\")\n",
    "    happy()\n",
    "\n",
    "# main\n",
    "import turtle\n",
    "f = open(\"aa.txt\", \"w\", encoding=\"utf-8\")\n",
    "f.write(\"你好\")\n",
    "f.close()\n",
    "turtle.forward(100)\n",
    "\n",
    "sing(\"李明\")\n",
    "\n",
    "print(\"hello\")\n"
   ]
  },
  {
   "cell_type": "code",
   "execution_count": null,
   "metadata": {},
   "outputs": [],
   "source": []
  }
 ],
 "metadata": {
  "kernelspec": {
   "display_name": "'Python Interactive'",
   "language": "python",
   "name": "229ff3b6-f7e8-4020-ae2d-0eceb6589aaf"
  },
  "language_info": {
   "codemirror_mode": {
    "name": "ipython",
    "version": 3
   },
   "file_extension": ".py",
   "mimetype": "text/x-python",
   "name": "python",
   "nbconvert_exporter": "python",
   "pygments_lexer": "ipython3",
   "version": "3.8.0"
  }
 },
 "nbformat": 4,
 "nbformat_minor": 2
}
